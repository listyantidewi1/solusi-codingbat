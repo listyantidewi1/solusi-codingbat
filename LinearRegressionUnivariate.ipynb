{
  "nbformat": 4,
  "nbformat_minor": 0,
  "metadata": {
    "colab": {
      "provenance": [],
      "authorship_tag": "ABX9TyMoeCYKXCuifcEqYKv0Wo5l",
      "include_colab_link": true
    },
    "kernelspec": {
      "name": "python3",
      "display_name": "Python 3"
    },
    "language_info": {
      "name": "python"
    }
  },
  "cells": [
    {
      "cell_type": "markdown",
      "metadata": {
        "id": "view-in-github",
        "colab_type": "text"
      },
      "source": [
        "<a href=\"https://colab.research.google.com/github/listyantidewi1/solusi-codingbat/blob/main/LinearRegressionUnivariate.ipynb\" target=\"_parent\"><img src=\"https://colab.research.google.com/assets/colab-badge.svg\" alt=\"Open In Colab\"/></a>"
      ]
    },
    {
      "cell_type": "code",
      "execution_count": 5,
      "metadata": {
        "colab": {
          "base_uri": "https://localhost:8080/",
          "height": 728
        },
        "id": "rufpEiIJNYPB",
        "outputId": "a7d492cb-6ff1-48ef-e885-f1492f9d9890"
      },
      "outputs": [
        {
          "output_type": "stream",
          "name": "stdout",
          "text": [
            "    x          y\n",
            "0  24  21.549452\n",
            "1  50  47.464463\n",
            "2  15  17.218656\n",
            "3  38  36.586398\n",
            "4  87  87.288984\n"
          ]
        },
        {
          "output_type": "display_data",
          "data": {
            "text/plain": [
              "<Figure size 432x288 with 1 Axes>"
            ],
            "image/png": "[encoded data removed]"
          },
          "metadata": {
            "needs_background": "light"
          }
        },
        {
          "output_type": "stream",
          "name": "stdout",
          "text": [
            "iteration: 0 cost:  743.4332672935938\n",
            "iteration: 400 cost:  3.9352561522452434\n",
            "iteration: 800 cost:  3.9352370922739954\n",
            "iteration: 1200 cost:  3.9352228867692007\n",
            "iteration: 1600 cost:  3.9352133946778873\n",
            "iteration: 2000 cost:  3.935208478193514\n",
            "iteration: 2400 cost:  3.935208002687018\n",
            "iteration: 2800 cost:  3.9352118366393762\n",
            "iteration: 3200 cost:  3.9352198515754337\n",
            "iteration: 3600 cost:  3.9352319219992205\n",
            "iteration: 4000 cost:  3.9352479253304566\n",
            "iteration: 4400 cost:  3.9352677418424737\n",
            "iteration: 4800 cost:  3.93529125460133\n",
            "iteration: 5200 cost:  3.9353183494062476\n",
            "iteration: 5600 cost:  3.935348914731232\n",
            "iteration: 6000 cost:  3.9353828416678653\n",
            "iteration: 6400 cost:  3.93542002386934\n",
            "iteration: 6800 cost:  3.9354603574955958\n",
            "49.951286222125134\n"
          ]
        }
      ],
      "source": [
        "import pandas as pd                 # library utk membaca dataset                 \n",
        "data = pd.read_csv(\"train.csv\")     # baca data dari file train.csv, simpan di variabel data          \n",
        "print(data.head())                  # print header data (baris pertama yg berisi judul setiap kolom)  \n",
        "\n",
        "X = data['x']; Y = data['y']        # salin kolom x ke variabel X, dan kolom y ke variabel Y\n",
        "X = X.tolist()                      # konversi tipe kolom X dan Y menjadi list\n",
        "Y = Y.tolist()\n",
        "\n",
        "import matplotlib.pyplot as plt     # import library untuk menggambar grafik\n",
        "plt.scatter(X, Y, s = 5)            # buat scatterplot dari data X di sumbu x, data Y di sumbu y, dan s (tebal titik) = 5\n",
        "plt.grid()                          # atur grafik sehingga menampilkan grid\n",
        "plt.xlabel(\"x values\")              # beri label/legend pada sumbu x sebagai \"x values\"\n",
        "plt.ylabel(\"y values\")              # beri label/legend pada sumbu y sebagai \"y values\"\n",
        "plt.show()                          # tampilkan grafik\n",
        "\n",
        "\n",
        "# algoritma gradient descent untuk mencari parameter w dan b yang optimal\n",
        "# alpha = learning rate, biasanya antara 0.001 hingga 0.1\n",
        "# X adalah data pada sumbu x\n",
        "# Y adalah data pada sumbu y\n",
        "def gradient_descent(X, Y, w, b, alpha):\n",
        " \n",
        "    dl_dw = 0.0                     # variabel sementara untuk menghitung -1 * X * (Y - (w * X + b)) dari seluruh data\n",
        "    dl_db = 0.0                     # variabel sementara untuk menghitung -1 * (Y - (w * X + b)) dari seluruh data\n",
        "    N = len(X)                      # hitung banyak data X, simpan di N\n",
        "\n",
        "    # rumus gradient descent:\n",
        "    # w = w - (1/N) * dl_dw * alpha\n",
        "    # b = b - (1/N) * dl_db * alpha \n",
        "\n",
        "    for i in range(N):              # iterasi sebanyak jumlah data (N)\n",
        "        dl_dw += -1*X[i] * (Y[i] - (w*X[i] + b))\n",
        "        dl_db += -1*(Y[i] - (w*X[i] + b))\n",
        "\n",
        "    w = w - (1/float(N)) * dl_dw * alpha\n",
        "    b = b - (1/float(N)) * dl_db * alpha\n",
        "\n",
        "    return w, b\n",
        "\n",
        "# fungsi untuk menghitung total error (total kesalahan prediksi)\n",
        "def cost_function (X, Y, w, b):\n",
        "  # X = dataset kolom x (sumbu x)\n",
        "  # Y = dataset kolom y (sumbu y)\n",
        "  # N = banyak data kolom X\n",
        "  # w dan b adalah parameter yg diperoleh dari fungsi gradient descent\n",
        "  # rumus: total_error = 1/2 * (Y - (w * X - b)) ** 2\n",
        "\n",
        "\n",
        "    N = len(X)                    # hitung banyak data X\n",
        "    total_error = 0.0             # variabel total error untuk menyimpan hasil perhitungan cost function, diberi nilai awal 0\n",
        "    for i in range(N):            # hitung error untuk setiap data, berulang sebanyak banyak data\n",
        "        total_error += (Y[i] - (w*X[i] - b))**2\n",
        "\n",
        "        \n",
        "    return total_error / (2*float(N))\n",
        "    \n",
        "\n",
        "# rumus regresi =>\n",
        "# prediksi = w * x + b\n",
        "# w dan b dicari oleh fungsi gradient descent\n",
        "def train(X, Y, w, b, alpha, n_iter):\n",
        "\n",
        "    for i in range(n_iter):\n",
        "        w, b = gradient_descent(X, Y, w, b, alpha)\n",
        "\n",
        "        if i % 400 == 0:\n",
        "            print (\"iteration:\", i, \"cost: \", cost_function(X, Y, w, b))\n",
        "\n",
        "\n",
        "    return w, b\n",
        "\n",
        "\n",
        "def predict(x, w, b):\n",
        "\treturn x*w + b\n",
        "\n",
        "\n",
        "w, b = train(X, Y, 0.0, 0.0, 0.0001, 7000)\n",
        "x_new = 50.0\n",
        "y_new = predict(x_new, w, b)\n",
        "print(y_new)"
      ]
    }
  ]
}